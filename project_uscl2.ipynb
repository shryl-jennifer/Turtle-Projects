{
 "cells": [
  {
   "cell_type": "code",
   "execution_count": null,
   "metadata": {},
   "outputs": [],
   "source": [
    "from turtle import *\n",
    "from random import randint\n",
    "speed(0)\n",
    "bgcolor('black')\n",
    "x = 1\n",
    "while x < 400:\n",
    "    r = randint(0,255) \n",
    "    g = randint(0,255) \n",
    "    b = randint(0,255)\n",
    "    colormode(255)\n",
    "    pencolor(r,g,b)\n",
    "    fd(65 + x)\n",
    "    rt(90.950)\n",
    "    x = x+1 \n",
    "exitonclick() "
   ]
  }
 ],
 "metadata": {
  "kernelspec": {
   "display_name": "Python 3",
   "language": "python",
   "name": "python3"
  },
  "language_info": {
   "codemirror_mode": {
    "name": "ipython",
    "version": 3
   },
   "file_extension": ".py",
   "mimetype": "text/x-python",
   "name": "python",
   "nbconvert_exporter": "python",
   "pygments_lexer": "ipython3",
   "version": "3.7.6"
  }
 },
 "nbformat": 4,
 "nbformat_minor": 4
}
