{
 "cells": [
  {
   "cell_type": "code",
   "execution_count": 1,
   "metadata": {
    "scrolled": true
   },
   "outputs": [],
   "source": [
    "import turtle\n",
    "\n",
    "def draw_square(some_turtle):\n",
    "\n",
    "    for i in range(1,5):\n",
    "        some_turtle.forward(100)\n",
    "        some_turtle.right(90)\n",
    "        \n",
    "def draw_circle():\n",
    "    window=turtle.Screen()\n",
    "    window.bgcolor(\"yellow\")\n",
    "\n",
    "    \n",
    "    robby=turtle.Turtle()\n",
    "    robby.shape(\"turtle\")\n",
    "    robby.color(\"red\")\n",
    "    for i in range(1,37):\n",
    "        draw_square(robby)\n",
    "        robby.right(10)\n",
    "\n",
    "        \n",
    "    window.exitonclick()\n",
    "draw_circle()\n",
    "\n",
    "    "
   ]
  }
 ],
 "metadata": {
  "kernelspec": {
   "display_name": "Python 3",
   "language": "python",
   "name": "python3"
  },
  "language_info": {
   "codemirror_mode": {
    "name": "ipython",
    "version": 3
   },
   "file_extension": ".py",
   "mimetype": "text/x-python",
   "name": "python",
   "nbconvert_exporter": "python",
   "pygments_lexer": "ipython3",
   "version": "3.7.6"
  }
 },
 "nbformat": 4,
 "nbformat_minor": 4
}
